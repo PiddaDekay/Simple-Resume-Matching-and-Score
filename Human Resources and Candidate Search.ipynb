{
 "cells": [
  {
   "cell_type": "markdown",
   "metadata": {},
   "source": [
    "# Human Resources and Candidate Search"
   ]
  },
  {
   "cell_type": "markdown",
   "metadata": {},
   "source": [
    "By Author : Mingfei Ma"
   ]
  },
  {
   "cell_type": "markdown",
   "metadata": {},
   "source": [
    "Date: 01/20/2021"
   ]
  },
  {
   "cell_type": "code",
   "execution_count": 1,
   "metadata": {},
   "outputs": [],
   "source": [
    "import pandas as pd\n",
    "import re"
   ]
  },
  {
   "cell_type": "code",
   "execution_count": 2,
   "metadata": {},
   "outputs": [],
   "source": [
    "candidate = pd.read_csv(\"Candidates.csv\")"
   ]
  },
  {
   "cell_type": "code",
   "execution_count": 3,
   "metadata": {
    "scrolled": false
   },
   "outputs": [
    {
     "data": {
      "text/html": [
       "<div>\n",
       "<style scoped>\n",
       "    .dataframe tbody tr th:only-of-type {\n",
       "        vertical-align: middle;\n",
       "    }\n",
       "\n",
       "    .dataframe tbody tr th {\n",
       "        vertical-align: top;\n",
       "    }\n",
       "\n",
       "    .dataframe thead th {\n",
       "        text-align: right;\n",
       "    }\n",
       "</style>\n",
       "<table border=\"1\" class=\"dataframe\">\n",
       "  <thead>\n",
       "    <tr style=\"text-align: right;\">\n",
       "      <th></th>\n",
       "      <th>name of the candidate</th>\n",
       "      <th>name of the text file</th>\n",
       "    </tr>\n",
       "  </thead>\n",
       "  <tbody>\n",
       "    <tr>\n",
       "      <th>0</th>\n",
       "      <td>Ann Dave</td>\n",
       "      <td>AnnDaveResume.txt</td>\n",
       "    </tr>\n",
       "    <tr>\n",
       "      <th>1</th>\n",
       "      <td>Bob Robert</td>\n",
       "      <td>BobRobertResume.txt</td>\n",
       "    </tr>\n",
       "    <tr>\n",
       "      <th>2</th>\n",
       "      <td>Catherine Lance</td>\n",
       "      <td>CatherineLanceResume.txt</td>\n",
       "    </tr>\n",
       "    <tr>\n",
       "      <th>3</th>\n",
       "      <td>Dave Matt</td>\n",
       "      <td>DaveMattResume.txt</td>\n",
       "    </tr>\n",
       "    <tr>\n",
       "      <th>4</th>\n",
       "      <td>Eva Lee</td>\n",
       "      <td>EvaLeeResume.txt</td>\n",
       "    </tr>\n",
       "    <tr>\n",
       "      <th>5</th>\n",
       "      <td>Flora Lopez</td>\n",
       "      <td>FloraLopezResume.txt</td>\n",
       "    </tr>\n",
       "    <tr>\n",
       "      <th>6</th>\n",
       "      <td>Gale Valuntine</td>\n",
       "      <td>GaleValuntineResume.txt</td>\n",
       "    </tr>\n",
       "    <tr>\n",
       "      <th>7</th>\n",
       "      <td>Hathaway Chen</td>\n",
       "      <td>HathawayChenResume.txt</td>\n",
       "    </tr>\n",
       "    <tr>\n",
       "      <th>8</th>\n",
       "      <td>Idell George</td>\n",
       "      <td>IdellGeorgeResume.txt</td>\n",
       "    </tr>\n",
       "    <tr>\n",
       "      <th>9</th>\n",
       "      <td>Jason Dan</td>\n",
       "      <td>JasonDanResume.txt</td>\n",
       "    </tr>\n",
       "    <tr>\n",
       "      <th>10</th>\n",
       "      <td>Kyle Howard</td>\n",
       "      <td>KyleHowardResume.txt</td>\n",
       "    </tr>\n",
       "    <tr>\n",
       "      <th>11</th>\n",
       "      <td>Marvin Kate</td>\n",
       "      <td>MarvinKateResume.txt</td>\n",
       "    </tr>\n",
       "    <tr>\n",
       "      <th>12</th>\n",
       "      <td>Nancy Wang</td>\n",
       "      <td>NancyWangResume.txt</td>\n",
       "    </tr>\n",
       "    <tr>\n",
       "      <th>13</th>\n",
       "      <td>Oscar Roberson</td>\n",
       "      <td>OscarRobersonResume.txt</td>\n",
       "    </tr>\n",
       "    <tr>\n",
       "      <th>14</th>\n",
       "      <td>Steve Lance</td>\n",
       "      <td>SteveLanceResume.txt</td>\n",
       "    </tr>\n",
       "  </tbody>\n",
       "</table>\n",
       "</div>"
      ],
      "text/plain": [
       "   name of the candidate     name of the text file\n",
       "0               Ann Dave         AnnDaveResume.txt\n",
       "1             Bob Robert       BobRobertResume.txt\n",
       "2        Catherine Lance  CatherineLanceResume.txt\n",
       "3              Dave Matt        DaveMattResume.txt\n",
       "4                Eva Lee          EvaLeeResume.txt\n",
       "5            Flora Lopez      FloraLopezResume.txt\n",
       "6         Gale Valuntine   GaleValuntineResume.txt\n",
       "7          Hathaway Chen    HathawayChenResume.txt\n",
       "8           Idell George     IdellGeorgeResume.txt\n",
       "9              Jason Dan        JasonDanResume.txt\n",
       "10           Kyle Howard      KyleHowardResume.txt\n",
       "11           Marvin Kate      MarvinKateResume.txt\n",
       "12            Nancy Wang       NancyWangResume.txt\n",
       "13        Oscar Roberson   OscarRobersonResume.txt\n",
       "14           Steve Lance      SteveLanceResume.txt"
      ]
     },
     "execution_count": 3,
     "metadata": {},
     "output_type": "execute_result"
    }
   ],
   "source": [
    "candidate"
   ]
  },
  {
   "cell_type": "markdown",
   "metadata": {},
   "source": [
    "# Reading job description and Gathering required skills from job description"
   ]
  },
  {
   "cell_type": "code",
   "execution_count": 4,
   "metadata": {},
   "outputs": [],
   "source": [
    "countbeginning = 0\n",
    "countending = 0\n",
    "count = 0\n",
    "with open(\"Job Description.txt\",\"r\") as job_description :\n",
    "    for line in job_description:\n",
    "        count +=1\n",
    "        if \"Requirements:\" in line: \n",
    "            countbeginning = count\n",
    "        if \"Pluses:\" in line:\n",
    "            countending = count"
   ]
  },
  {
   "cell_type": "code",
   "execution_count": 5,
   "metadata": {},
   "outputs": [
    {
     "data": {
      "text/plain": [
       "9"
      ]
     },
     "execution_count": 5,
     "metadata": {},
     "output_type": "execute_result"
    }
   ],
   "source": [
    "countbeginning"
   ]
  },
  {
   "cell_type": "code",
   "execution_count": 6,
   "metadata": {},
   "outputs": [
    {
     "data": {
      "text/plain": [
       "22"
      ]
     },
     "execution_count": 6,
     "metadata": {},
     "output_type": "execute_result"
    }
   ],
   "source": [
    "countending"
   ]
  },
  {
   "cell_type": "code",
   "execution_count": 7,
   "metadata": {},
   "outputs": [],
   "source": [
    "job_description = open(\"Job Description.txt\",\"r\")\n",
    "job_description = job_description.read()\n",
    "properties = job_description.split(\"\\n\\n\")"
   ]
  },
  {
   "cell_type": "code",
   "execution_count": 8,
   "metadata": {
    "scrolled": true
   },
   "outputs": [],
   "source": [
    "job_requirement =   properties[3]\n",
    "job_requirement_2 = properties[4]"
   ]
  },
  {
   "cell_type": "markdown",
   "metadata": {},
   "source": [
    "# Go through 15 resumes to see how well they match the job requirements "
   ]
  },
  {
   "cell_type": "markdown",
   "metadata": {},
   "source": [
    "Build a function to get their match scores of each resume"
   ]
  },
  {
   "cell_type": "code",
   "execution_count": 9,
   "metadata": {},
   "outputs": [],
   "source": [
    "def resume_score(name):\n",
    "    score = 0\n",
    "    file1 = job_requirement\n",
    "    file2 = job_requirement_2\n",
    "    with open(name,\"r\") as resume:\n",
    "        resume=resume.readlines()\n",
    "        for line in resume:\n",
    "            line=line.strip('\\n')\n",
    "            if line ==\"\\n\\n\":\n",
    "                continue\n",
    "            if (line in file1):\n",
    "                score=score+1\n",
    "            if (line in file2):\n",
    "                score=score+1\n",
    "    return(score)"
   ]
  },
  {
   "cell_type": "markdown",
   "metadata": {},
   "source": [
    "Go through the whole candidates by searching key words "
   ]
  },
  {
   "cell_type": "code",
   "execution_count": 10,
   "metadata": {},
   "outputs": [],
   "source": [
    "score = []\n",
    "for names in candidate[\"name of the text file\"]:\n",
    "    score.append(resume_score(names))"
   ]
  },
  {
   "cell_type": "code",
   "execution_count": 11,
   "metadata": {},
   "outputs": [
    {
     "data": {
      "text/plain": [
       "[4, 6, 9, 5, 3, 14, 8, 5, 7, 7, 6, 15, 6, 10, 7]"
      ]
     },
     "execution_count": 11,
     "metadata": {},
     "output_type": "execute_result"
    }
   ],
   "source": [
    "score"
   ]
  },
  {
   "cell_type": "code",
   "execution_count": 12,
   "metadata": {},
   "outputs": [],
   "source": [
    "candidate[\"score\"]=score"
   ]
  },
  {
   "cell_type": "code",
   "execution_count": 13,
   "metadata": {
    "scrolled": true
   },
   "outputs": [
    {
     "data": {
      "text/html": [
       "<div>\n",
       "<style scoped>\n",
       "    .dataframe tbody tr th:only-of-type {\n",
       "        vertical-align: middle;\n",
       "    }\n",
       "\n",
       "    .dataframe tbody tr th {\n",
       "        vertical-align: top;\n",
       "    }\n",
       "\n",
       "    .dataframe thead th {\n",
       "        text-align: right;\n",
       "    }\n",
       "</style>\n",
       "<table border=\"1\" class=\"dataframe\">\n",
       "  <thead>\n",
       "    <tr style=\"text-align: right;\">\n",
       "      <th></th>\n",
       "      <th>name of the candidate</th>\n",
       "      <th>name of the text file</th>\n",
       "      <th>score</th>\n",
       "    </tr>\n",
       "  </thead>\n",
       "  <tbody>\n",
       "    <tr>\n",
       "      <th>0</th>\n",
       "      <td>Ann Dave</td>\n",
       "      <td>AnnDaveResume.txt</td>\n",
       "      <td>4</td>\n",
       "    </tr>\n",
       "    <tr>\n",
       "      <th>1</th>\n",
       "      <td>Bob Robert</td>\n",
       "      <td>BobRobertResume.txt</td>\n",
       "      <td>6</td>\n",
       "    </tr>\n",
       "    <tr>\n",
       "      <th>2</th>\n",
       "      <td>Catherine Lance</td>\n",
       "      <td>CatherineLanceResume.txt</td>\n",
       "      <td>9</td>\n",
       "    </tr>\n",
       "    <tr>\n",
       "      <th>3</th>\n",
       "      <td>Dave Matt</td>\n",
       "      <td>DaveMattResume.txt</td>\n",
       "      <td>5</td>\n",
       "    </tr>\n",
       "    <tr>\n",
       "      <th>4</th>\n",
       "      <td>Eva Lee</td>\n",
       "      <td>EvaLeeResume.txt</td>\n",
       "      <td>3</td>\n",
       "    </tr>\n",
       "    <tr>\n",
       "      <th>5</th>\n",
       "      <td>Flora Lopez</td>\n",
       "      <td>FloraLopezResume.txt</td>\n",
       "      <td>14</td>\n",
       "    </tr>\n",
       "    <tr>\n",
       "      <th>6</th>\n",
       "      <td>Gale Valuntine</td>\n",
       "      <td>GaleValuntineResume.txt</td>\n",
       "      <td>8</td>\n",
       "    </tr>\n",
       "    <tr>\n",
       "      <th>7</th>\n",
       "      <td>Hathaway Chen</td>\n",
       "      <td>HathawayChenResume.txt</td>\n",
       "      <td>5</td>\n",
       "    </tr>\n",
       "    <tr>\n",
       "      <th>8</th>\n",
       "      <td>Idell George</td>\n",
       "      <td>IdellGeorgeResume.txt</td>\n",
       "      <td>7</td>\n",
       "    </tr>\n",
       "    <tr>\n",
       "      <th>9</th>\n",
       "      <td>Jason Dan</td>\n",
       "      <td>JasonDanResume.txt</td>\n",
       "      <td>7</td>\n",
       "    </tr>\n",
       "    <tr>\n",
       "      <th>10</th>\n",
       "      <td>Kyle Howard</td>\n",
       "      <td>KyleHowardResume.txt</td>\n",
       "      <td>6</td>\n",
       "    </tr>\n",
       "    <tr>\n",
       "      <th>11</th>\n",
       "      <td>Marvin Kate</td>\n",
       "      <td>MarvinKateResume.txt</td>\n",
       "      <td>15</td>\n",
       "    </tr>\n",
       "    <tr>\n",
       "      <th>12</th>\n",
       "      <td>Nancy Wang</td>\n",
       "      <td>NancyWangResume.txt</td>\n",
       "      <td>6</td>\n",
       "    </tr>\n",
       "    <tr>\n",
       "      <th>13</th>\n",
       "      <td>Oscar Roberson</td>\n",
       "      <td>OscarRobersonResume.txt</td>\n",
       "      <td>10</td>\n",
       "    </tr>\n",
       "    <tr>\n",
       "      <th>14</th>\n",
       "      <td>Steve Lance</td>\n",
       "      <td>SteveLanceResume.txt</td>\n",
       "      <td>7</td>\n",
       "    </tr>\n",
       "  </tbody>\n",
       "</table>\n",
       "</div>"
      ],
      "text/plain": [
       "   name of the candidate     name of the text file  score\n",
       "0               Ann Dave         AnnDaveResume.txt      4\n",
       "1             Bob Robert       BobRobertResume.txt      6\n",
       "2        Catherine Lance  CatherineLanceResume.txt      9\n",
       "3              Dave Matt        DaveMattResume.txt      5\n",
       "4                Eva Lee          EvaLeeResume.txt      3\n",
       "5            Flora Lopez      FloraLopezResume.txt     14\n",
       "6         Gale Valuntine   GaleValuntineResume.txt      8\n",
       "7          Hathaway Chen    HathawayChenResume.txt      5\n",
       "8           Idell George     IdellGeorgeResume.txt      7\n",
       "9              Jason Dan        JasonDanResume.txt      7\n",
       "10           Kyle Howard      KyleHowardResume.txt      6\n",
       "11           Marvin Kate      MarvinKateResume.txt     15\n",
       "12            Nancy Wang       NancyWangResume.txt      6\n",
       "13        Oscar Roberson   OscarRobersonResume.txt     10\n",
       "14           Steve Lance      SteveLanceResume.txt      7"
      ]
     },
     "execution_count": 13,
     "metadata": {},
     "output_type": "execute_result"
    }
   ],
   "source": [
    "candidate"
   ]
  },
  {
   "cell_type": "markdown",
   "metadata": {},
   "source": [
    "# Write 5 best fit candidates into a file "
   ]
  },
  {
   "cell_type": "code",
   "execution_count": 14,
   "metadata": {},
   "outputs": [],
   "source": [
    "candidate.sort_values(\"score\",inplace=True,ascending=False)"
   ]
  },
  {
   "cell_type": "code",
   "execution_count": 15,
   "metadata": {},
   "outputs": [
    {
     "data": {
      "text/html": [
       "<div>\n",
       "<style scoped>\n",
       "    .dataframe tbody tr th:only-of-type {\n",
       "        vertical-align: middle;\n",
       "    }\n",
       "\n",
       "    .dataframe tbody tr th {\n",
       "        vertical-align: top;\n",
       "    }\n",
       "\n",
       "    .dataframe thead th {\n",
       "        text-align: right;\n",
       "    }\n",
       "</style>\n",
       "<table border=\"1\" class=\"dataframe\">\n",
       "  <thead>\n",
       "    <tr style=\"text-align: right;\">\n",
       "      <th></th>\n",
       "      <th>name of the candidate</th>\n",
       "      <th>name of the text file</th>\n",
       "      <th>score</th>\n",
       "    </tr>\n",
       "  </thead>\n",
       "  <tbody>\n",
       "    <tr>\n",
       "      <th>11</th>\n",
       "      <td>Marvin Kate</td>\n",
       "      <td>MarvinKateResume.txt</td>\n",
       "      <td>15</td>\n",
       "    </tr>\n",
       "    <tr>\n",
       "      <th>5</th>\n",
       "      <td>Flora Lopez</td>\n",
       "      <td>FloraLopezResume.txt</td>\n",
       "      <td>14</td>\n",
       "    </tr>\n",
       "    <tr>\n",
       "      <th>13</th>\n",
       "      <td>Oscar Roberson</td>\n",
       "      <td>OscarRobersonResume.txt</td>\n",
       "      <td>10</td>\n",
       "    </tr>\n",
       "    <tr>\n",
       "      <th>2</th>\n",
       "      <td>Catherine Lance</td>\n",
       "      <td>CatherineLanceResume.txt</td>\n",
       "      <td>9</td>\n",
       "    </tr>\n",
       "    <tr>\n",
       "      <th>6</th>\n",
       "      <td>Gale Valuntine</td>\n",
       "      <td>GaleValuntineResume.txt</td>\n",
       "      <td>8</td>\n",
       "    </tr>\n",
       "    <tr>\n",
       "      <th>8</th>\n",
       "      <td>Idell George</td>\n",
       "      <td>IdellGeorgeResume.txt</td>\n",
       "      <td>7</td>\n",
       "    </tr>\n",
       "    <tr>\n",
       "      <th>9</th>\n",
       "      <td>Jason Dan</td>\n",
       "      <td>JasonDanResume.txt</td>\n",
       "      <td>7</td>\n",
       "    </tr>\n",
       "    <tr>\n",
       "      <th>14</th>\n",
       "      <td>Steve Lance</td>\n",
       "      <td>SteveLanceResume.txt</td>\n",
       "      <td>7</td>\n",
       "    </tr>\n",
       "    <tr>\n",
       "      <th>1</th>\n",
       "      <td>Bob Robert</td>\n",
       "      <td>BobRobertResume.txt</td>\n",
       "      <td>6</td>\n",
       "    </tr>\n",
       "    <tr>\n",
       "      <th>10</th>\n",
       "      <td>Kyle Howard</td>\n",
       "      <td>KyleHowardResume.txt</td>\n",
       "      <td>6</td>\n",
       "    </tr>\n",
       "    <tr>\n",
       "      <th>12</th>\n",
       "      <td>Nancy Wang</td>\n",
       "      <td>NancyWangResume.txt</td>\n",
       "      <td>6</td>\n",
       "    </tr>\n",
       "    <tr>\n",
       "      <th>3</th>\n",
       "      <td>Dave Matt</td>\n",
       "      <td>DaveMattResume.txt</td>\n",
       "      <td>5</td>\n",
       "    </tr>\n",
       "    <tr>\n",
       "      <th>7</th>\n",
       "      <td>Hathaway Chen</td>\n",
       "      <td>HathawayChenResume.txt</td>\n",
       "      <td>5</td>\n",
       "    </tr>\n",
       "    <tr>\n",
       "      <th>0</th>\n",
       "      <td>Ann Dave</td>\n",
       "      <td>AnnDaveResume.txt</td>\n",
       "      <td>4</td>\n",
       "    </tr>\n",
       "    <tr>\n",
       "      <th>4</th>\n",
       "      <td>Eva Lee</td>\n",
       "      <td>EvaLeeResume.txt</td>\n",
       "      <td>3</td>\n",
       "    </tr>\n",
       "  </tbody>\n",
       "</table>\n",
       "</div>"
      ],
      "text/plain": [
       "   name of the candidate     name of the text file  score\n",
       "11           Marvin Kate      MarvinKateResume.txt     15\n",
       "5            Flora Lopez      FloraLopezResume.txt     14\n",
       "13        Oscar Roberson   OscarRobersonResume.txt     10\n",
       "2        Catherine Lance  CatherineLanceResume.txt      9\n",
       "6         Gale Valuntine   GaleValuntineResume.txt      8\n",
       "8           Idell George     IdellGeorgeResume.txt      7\n",
       "9              Jason Dan        JasonDanResume.txt      7\n",
       "14           Steve Lance      SteveLanceResume.txt      7\n",
       "1             Bob Robert       BobRobertResume.txt      6\n",
       "10           Kyle Howard      KyleHowardResume.txt      6\n",
       "12            Nancy Wang       NancyWangResume.txt      6\n",
       "3              Dave Matt        DaveMattResume.txt      5\n",
       "7          Hathaway Chen    HathawayChenResume.txt      5\n",
       "0               Ann Dave         AnnDaveResume.txt      4\n",
       "4                Eva Lee          EvaLeeResume.txt      3"
      ]
     },
     "execution_count": 15,
     "metadata": {},
     "output_type": "execute_result"
    }
   ],
   "source": [
    "candidate"
   ]
  },
  {
   "cell_type": "code",
   "execution_count": 16,
   "metadata": {},
   "outputs": [],
   "source": [
    "final_5_candidates = candidate[[\"name of the candidate\",\"score\"]][0:5]"
   ]
  },
  {
   "cell_type": "code",
   "execution_count": 17,
   "metadata": {},
   "outputs": [
    {
     "data": {
      "text/html": [
       "<div>\n",
       "<style scoped>\n",
       "    .dataframe tbody tr th:only-of-type {\n",
       "        vertical-align: middle;\n",
       "    }\n",
       "\n",
       "    .dataframe tbody tr th {\n",
       "        vertical-align: top;\n",
       "    }\n",
       "\n",
       "    .dataframe thead th {\n",
       "        text-align: right;\n",
       "    }\n",
       "</style>\n",
       "<table border=\"1\" class=\"dataframe\">\n",
       "  <thead>\n",
       "    <tr style=\"text-align: right;\">\n",
       "      <th></th>\n",
       "      <th>name of the candidate</th>\n",
       "      <th>score</th>\n",
       "    </tr>\n",
       "  </thead>\n",
       "  <tbody>\n",
       "    <tr>\n",
       "      <th>11</th>\n",
       "      <td>Marvin Kate</td>\n",
       "      <td>15</td>\n",
       "    </tr>\n",
       "    <tr>\n",
       "      <th>5</th>\n",
       "      <td>Flora Lopez</td>\n",
       "      <td>14</td>\n",
       "    </tr>\n",
       "    <tr>\n",
       "      <th>13</th>\n",
       "      <td>Oscar Roberson</td>\n",
       "      <td>10</td>\n",
       "    </tr>\n",
       "    <tr>\n",
       "      <th>2</th>\n",
       "      <td>Catherine Lance</td>\n",
       "      <td>9</td>\n",
       "    </tr>\n",
       "    <tr>\n",
       "      <th>6</th>\n",
       "      <td>Gale Valuntine</td>\n",
       "      <td>8</td>\n",
       "    </tr>\n",
       "  </tbody>\n",
       "</table>\n",
       "</div>"
      ],
      "text/plain": [
       "   name of the candidate  score\n",
       "11           Marvin Kate     15\n",
       "5            Flora Lopez     14\n",
       "13        Oscar Roberson     10\n",
       "2        Catherine Lance      9\n",
       "6         Gale Valuntine      8"
      ]
     },
     "execution_count": 17,
     "metadata": {},
     "output_type": "execute_result"
    }
   ],
   "source": [
    "final_5_candidates"
   ]
  },
  {
   "cell_type": "markdown",
   "metadata": {},
   "source": [
    "So, our final 5 candidates who are the most suitable to the data scientist job requirement would be **Marvin Kate,Flora Lopez, Oscar Roberson, Catherine Lance,and Gale Valuntine.**"
   ]
  },
  {
   "cell_type": "markdown",
   "metadata": {},
   "source": [
    "# Create characteristics by searching key words in their resume"
   ]
  },
  {
   "cell_type": "markdown",
   "metadata": {},
   "source": [
    "Build a function to catch key words"
   ]
  },
  {
   "cell_type": "code",
   "execution_count": 18,
   "metadata": {},
   "outputs": [],
   "source": [
    "def resume_characteristics(name):\n",
    "    key_words = set()\n",
    "    with open(name,\"r\") as resume:\n",
    "        resume=resume.readlines()\n",
    "        for line in resume:\n",
    "            if \"Ph.D\" in line:\n",
    "                key_words.add(\"Ph.d\")\n",
    "            if \"Master\" in line:\n",
    "                key_words.add(\"Masters\")\n",
    "            if \"machine learning\" in line:\n",
    "                key_words.add(\"machine learning\")\n",
    "            if \"managing data scientists\" in line:\n",
    "                key_words.add(\"managing data scientists\")\n",
    "            if \"strong knowledge\" in line:\n",
    "                key_words.add(\"strong knowledge\")\n",
    "            if \"spoken communication skills\" in line:\n",
    "                key_words.add(\"good communication skills\")\n",
    "            if \"passion for video games\" in line:\n",
    "                key_words.add(\"passionate on games\")\n",
    "            if \"data visualization\" in line:\n",
    "                key_words.add(\"data visualization\")\n",
    "            if \"Strong problem-solving\" in line:\n",
    "                key_words.add(\"Strong problem-solving\")\n",
    "    return(key_words)"
   ]
  },
  {
   "cell_type": "code",
   "execution_count": 19,
   "metadata": {},
   "outputs": [],
   "source": [
    "char = []\n",
    "for names in candidate[\"name of the text file\"][0:5]:\n",
    "    char.append(resume_characteristics(names))"
   ]
  },
  {
   "cell_type": "code",
   "execution_count": 20,
   "metadata": {
    "scrolled": true
   },
   "outputs": [],
   "source": [
    "final_5_candidates[\"characteristics\"] = char"
   ]
  },
  {
   "cell_type": "code",
   "execution_count": 21,
   "metadata": {},
   "outputs": [
    {
     "data": {
      "text/html": [
       "<div>\n",
       "<style scoped>\n",
       "    .dataframe tbody tr th:only-of-type {\n",
       "        vertical-align: middle;\n",
       "    }\n",
       "\n",
       "    .dataframe tbody tr th {\n",
       "        vertical-align: top;\n",
       "    }\n",
       "\n",
       "    .dataframe thead th {\n",
       "        text-align: right;\n",
       "    }\n",
       "</style>\n",
       "<table border=\"1\" class=\"dataframe\">\n",
       "  <thead>\n",
       "    <tr style=\"text-align: right;\">\n",
       "      <th></th>\n",
       "      <th>name of the candidate</th>\n",
       "      <th>score</th>\n",
       "      <th>characteristics</th>\n",
       "    </tr>\n",
       "  </thead>\n",
       "  <tbody>\n",
       "    <tr>\n",
       "      <th>11</th>\n",
       "      <td>Marvin Kate</td>\n",
       "      <td>15</td>\n",
       "      <td>{data visualization, Ph.d, Strong problem-solv...</td>\n",
       "    </tr>\n",
       "    <tr>\n",
       "      <th>5</th>\n",
       "      <td>Flora Lopez</td>\n",
       "      <td>14</td>\n",
       "      <td>{data visualization, Ph.d, Strong problem-solv...</td>\n",
       "    </tr>\n",
       "    <tr>\n",
       "      <th>13</th>\n",
       "      <td>Oscar Roberson</td>\n",
       "      <td>10</td>\n",
       "      <td>{data visualization, Strong problem-solving, m...</td>\n",
       "    </tr>\n",
       "    <tr>\n",
       "      <th>2</th>\n",
       "      <td>Catherine Lance</td>\n",
       "      <td>9</td>\n",
       "      <td>{Ph.d, Strong problem-solving, machine learnin...</td>\n",
       "    </tr>\n",
       "    <tr>\n",
       "      <th>6</th>\n",
       "      <td>Gale Valuntine</td>\n",
       "      <td>8</td>\n",
       "      <td>{data visualization, Strong problem-solving, m...</td>\n",
       "    </tr>\n",
       "  </tbody>\n",
       "</table>\n",
       "</div>"
      ],
      "text/plain": [
       "   name of the candidate  score  \\\n",
       "11           Marvin Kate     15   \n",
       "5            Flora Lopez     14   \n",
       "13        Oscar Roberson     10   \n",
       "2        Catherine Lance      9   \n",
       "6         Gale Valuntine      8   \n",
       "\n",
       "                                      characteristics  \n",
       "11  {data visualization, Ph.d, Strong problem-solv...  \n",
       "5   {data visualization, Ph.d, Strong problem-solv...  \n",
       "13  {data visualization, Strong problem-solving, m...  \n",
       "2   {Ph.d, Strong problem-solving, machine learnin...  \n",
       "6   {data visualization, Strong problem-solving, m...  "
      ]
     },
     "execution_count": 21,
     "metadata": {},
     "output_type": "execute_result"
    }
   ],
   "source": [
    "final_5_candidates"
   ]
  },
  {
   "cell_type": "markdown",
   "metadata": {},
   "source": [
    "# Write 5 candidates down with the score and characteristics as a csv file"
   ]
  },
  {
   "cell_type": "code",
   "execution_count": 23,
   "metadata": {},
   "outputs": [],
   "source": [
    "final_5_candidates.to_csv(\"ToInterview.csv\")"
   ]
  },
  {
   "cell_type": "code",
   "execution_count": null,
   "metadata": {},
   "outputs": [],
   "source": []
  }
 ],
 "metadata": {
  "kernelspec": {
   "display_name": "Python 3",
   "language": "python",
   "name": "python3"
  },
  "language_info": {
   "codemirror_mode": {
    "name": "ipython",
    "version": 3
   },
   "file_extension": ".py",
   "mimetype": "text/x-python",
   "name": "python",
   "nbconvert_exporter": "python",
   "pygments_lexer": "ipython3",
   "version": "3.6.13"
  }
 },
 "nbformat": 4,
 "nbformat_minor": 4
}
